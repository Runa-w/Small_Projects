{
  "nbformat": 4,
  "nbformat_minor": 0,
  "metadata": {
    "colab": {
      "provenance": [],
      "authorship_tag": "ABX9TyMPrzcQ8n9EfzwGja6012kH",
      "include_colab_link": true
    },
    "kernelspec": {
      "name": "python3",
      "display_name": "Python 3"
    },
    "language_info": {
      "name": "python"
    }
  },
  "cells": [
    {
      "cell_type": "markdown",
      "metadata": {
        "id": "view-in-github",
        "colab_type": "text"
      },
      "source": [
        "<a href=\"https://colab.research.google.com/github/Runa-w/Small_Projects/blob/master/theBirthdayParadox.ipynb\" target=\"_parent\"><img src=\"https://colab.research.google.com/assets/colab-badge.svg\" alt=\"Open In Colab\"/></a>"
      ]
    },
    {
      "cell_type": "code",
      "execution_count": 1,
      "metadata": {
        "colab": {
          "base_uri": "https://localhost:8080/",
          "height": 106
        },
        "id": "L6G-92RzZqxF",
        "outputId": "460a767e-5efd-4fcf-aa40-f036426646d9"
      },
      "outputs": [
        {
          "output_type": "error",
          "ename": "SyntaxError",
          "evalue": "incomplete input (<ipython-input-1-ffd2d0b9e426>, line 27)",
          "traceback": [
            "\u001b[0;36m  File \u001b[0;32m\"<ipython-input-1-ffd2d0b9e426>\"\u001b[0;36m, line \u001b[0;32m27\u001b[0m\n\u001b[0;31m    for a, birthdayA in enumerate(birthdays):\u001b[0m\n\u001b[0m                                             ^\u001b[0m\n\u001b[0;31mSyntaxError\u001b[0m\u001b[0;31m:\u001b[0m incomplete input\n"
          ]
        }
      ],
      "source": [
        "\"\"\" The Birthday Paradox Simulation, by Al Sweigart al@inventwithpython.\n",
        "Explore the surprising probabilities of the \"Birthday Paradox\".\n",
        "\"\"\"\n",
        "\n",
        "import datetime, random\n",
        "\n",
        "def getBirthdays(numberOfBirthdays):\n",
        "  \"\"\"Returns a list of number random date objects for birthdays.\"\"\"\n",
        "  birthdays = []\n",
        "  for i in range(numberOfBirthdays):\n",
        "    # The year is unimportant for our simulation, as long as all\n",
        "    # birthdays have the same year.\n",
        "    startOfYear = datetime.date(2024, 1, 1)\n",
        "\n",
        "    # Get a random day into the year:\n",
        "    randomNumberOfDays = datetime.timedelta(random.randint(0, 364))\n",
        "    birthday = startOfYear + randomNumberOfDays\n",
        "    birthdays.append(birthday)\n",
        "  return birthdays\n",
        "\n",
        "def getMatch(birthdays):\n",
        "  \"\"\"Returns the date object of a birthday that occurs more than once in the birthdays list.\"\"\"\n",
        "  if len(birthdays) == len(set(birthdays)):\n",
        "    return None # All birthdays are unique, so return None.\n",
        "\n",
        "  # Compare each birthday to every other birthday:\n",
        "  for a, birthdayA in enumerate(birthdays):\n",
        "    for b, birthdayB in enumerate(birthdays[a + 1 :]):\n",
        "      if birthdayA == birthdayB:\n",
        "        return birthhdayA # Return the matching birthday.\n",
        "\n",
        "# Display the intro:\n",
        ""
      ]
    },
    {
      "cell_type": "code",
      "source": [],
      "metadata": {
        "id": "ccbS4H8Da7u1"
      },
      "execution_count": null,
      "outputs": []
    }
  ]
}